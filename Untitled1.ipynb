{
 "cells": [
  {
   "cell_type": "code",
   "execution_count": 23,
   "metadata": {},
   "outputs": [],
   "source": [
    "import matplotlib.pyplot as plt"
   ]
  },
  {
   "cell_type": "code",
   "execution_count": 24,
   "metadata": {},
   "outputs": [],
   "source": [
    "import numpy as np"
   ]
  },
  {
   "cell_type": "code",
   "execution_count": 49,
   "metadata": {},
   "outputs": [],
   "source": [
    "from time import time"
   ]
  },
  {
   "cell_type": "code",
   "execution_count": 36,
   "metadata": {},
   "outputs": [],
   "source": [
    "def count_elapsed_time(f):\n",
    "    \"\"\"\n",
    "    Decorator.\n",
    "    Execute the function and calculate the elapsed time.\n",
    "    Print the result to the standard output.\n",
    "    \"\"\"\n",
    "    def wrapper():\n",
    "        # Start counting.\n",
    "        start_time = time()\n",
    "        # Take the original function's return value.\n",
    "        ret = fibo(f)\n",
    "        # Calculate the elapsed time.\n",
    "        elapsed_time = time() - start_time\n",
    "        print(\"Elapsed time: %0.10f seconds.\" % elapsed_time)\n",
    "        return ret\n",
    "    \n",
    "    return wrapper"
   ]
  },
  {
   "cell_type": "code",
   "execution_count": 62,
   "metadata": {},
   "outputs": [],
   "source": [
    "def fibo(n):\n",
    "    \n",
    "    a = 0\n",
    "    b = 1\n",
    "    i = 2  \n",
    "    if(n==0):\n",
    "        print(n)    \n",
    "    else:\n",
    "        start_time = time()\n",
    "        while i <= n:\n",
    "            # print(a, end=\" \")\n",
    "            b += a\n",
    "            a = b - a   \n",
    "            i += 1\n",
    "        end_time = time()  \n",
    "        print(b) \n",
    "    \n",
    "    elapsed_time = end_time - start_time\n",
    "    print (np.around(elapsed_time,decimals=6))"
   ]
  },
  {
   "cell_type": "code",
   "execution_count": 65,
   "metadata": {},
   "outputs": [
    {
     "name": "stdout",
     "output_type": "stream",
     "text": [
      "403119983541824607867851089787123036948184944529137776050112866224743956847283630908927828873606214335770266837071399360452002735183826882275387818633760866779417806968853985188078395518102162460398149741412138363186149345561121850880079798464862449092334787606559388994800062936330006524215898350299250709057290867130349286031563712605348833980134347493555492642560189022522417558815966273720509959376469405458461230165872175689036209170617426718303136452758261113403398046130008723841015192467273343065733491396002804377575182140909889878229506021192752127386609057138982212397813210564892941510360108118242204063738613345373465902050281153425750319444611578448657565668141859310689474844226858275770533979230398782659035472779196554170984853732860145624063451074488135664803845123246192311345776508840356998563977395499161248937458806838445718682170295147688952888376947016243276145752697786875370513649254920397936124356808246583849568212677233297108866916803950034225042257492298961309708461596044658859026162321667450318330330150424004744601766329691800832782880737582152991166855608805604178829352544358177696766527654163143836879036533369309670571001676028469696418031464189872537794737799334531488925515556322381368694994346582757467960727645254259174944859303183655668362906151128344947485234263763613894004542054731323952527381228898569057885406388214873452379817110986665448631870539666106675699908949371987259635196987501479904844221086665224398962291646594239344136139925002418659324063314644053981774450586058679571669914651975220814677455321689551027702162032397441523883013966480495241963970458333803625201817503288739516973917538575702792997868964357009234888965917497580763259273306981525362462483830907393431879214798449985478339413802239436116199401290327354593199514467027857239221275229294944768577173875094908558656302904006322234574532685074632098526363862720956833044401335283830049065464561258164513077099979715647398265098993773281572257552068750665879547297320551523221848226803051971400498617064997632942323542973351581721820653877978443745518850057112763535087116759777420286614488715\n",
      "0.009994\n"
     ]
    }
   ],
   "source": [
    "start_time = time()\n",
    "fibo(10120)\n",
    "ela"
   ]
  },
  {
   "cell_type": "code",
   "execution_count": 26,
   "metadata": {},
   "outputs": [],
   "source": [
    "arr = np.arange(10)"
   ]
  },
  {
   "cell_type": "code",
   "execution_count": 27,
   "metadata": {},
   "outputs": [
    {
     "data": {
      "text/plain": [
       "array([0, 1, 2, 3, 4, 5, 6, 7, 8, 9])"
      ]
     },
     "execution_count": 27,
     "metadata": {},
     "output_type": "execute_result"
    }
   ],
   "source": [
    "arr"
   ]
  },
  {
   "cell_type": "code",
   "execution_count": 28,
   "metadata": {},
   "outputs": [
    {
     "data": {
      "text/plain": [
       "(array([1., 0., 1., 0., 1., 0., 1., 0., 1., 0., 0., 1., 0., 1., 0., 1., 0.,\n",
       "        1., 0., 1.]),\n",
       " array([0.  , 0.45, 0.9 , 1.35, 1.8 , 2.25, 2.7 , 3.15, 3.6 , 4.05, 4.5 ,\n",
       "        4.95, 5.4 , 5.85, 6.3 , 6.75, 7.2 , 7.65, 8.1 , 8.55, 9.  ]),\n",
       " <a list of 20 Patch objects>)"
      ]
     },
     "execution_count": 28,
     "metadata": {},
     "output_type": "execute_result"
    },
    {
     "data": {
      "image/png": "[encoded data removed]",
      "text/plain": [
       "<Figure size 432x288 with 1 Axes>"
      ]
     },
     "metadata": {},
     "output_type": "display_data"
    }
   ],
   "source": [
    "plt.hist(arr,bins=20)"
   ]
  }
 ],
 "metadata": {
  "kernelspec": {
   "display_name": "Python 3",
   "language": "python",
   "name": "python3"
  },
  "language_info": {
   "codemirror_mode": {
    "name": "ipython",
    "version": 3
   },
   "file_extension": ".py",
   "mimetype": "text/x-python",
   "name": "python",
   "nbconvert_exporter": "python",
   "pygments_lexer": "ipython3",
   "version": "3.6.5"
  }
 },
 "nbformat": 4,
 "nbformat_minor": 2
}
